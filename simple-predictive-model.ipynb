{
 "cells": [
  {
   "cell_type": "code",
   "execution_count": 16,
   "id": "aad9d4ef",
   "metadata": {
    "_cell_guid": "b1076dfc-b9ad-4769-8c92-a6c4dae69d19",
    "_uuid": "8f2839f25d086af736a60e9eeb907d3b93b6e0e5",
    "execution": {
     "iopub.execute_input": "2021-12-08T08:48:33.354939Z",
     "iopub.status.busy": "2021-12-08T08:48:33.353697Z",
     "iopub.status.idle": "2021-12-08T08:48:33.377076Z",
     "shell.execute_reply": "2021-12-08T08:48:33.377671Z",
     "shell.execute_reply.started": "2021-12-08T08:47:31.779616Z"
    },
    "papermill": {
     "duration": 0.04061,
     "end_time": "2021-12-08T08:48:33.377980",
     "exception": false,
     "start_time": "2021-12-08T08:48:33.337370",
     "status": "completed"
    },
    "tags": []
   },
   "outputs": [],
   "source": [
    "import numpy as np\n",
    "import pandas as pd"
   ]
  },
  {
   "cell_type": "code",
   "execution_count": 17,
   "id": "ac40a840",
   "metadata": {
    "execution": {
     "iopub.execute_input": "2021-12-08T08:48:33.410692Z",
     "iopub.status.busy": "2021-12-08T08:48:33.409946Z",
     "iopub.status.idle": "2021-12-08T08:48:33.426213Z",
     "shell.execute_reply": "2021-12-08T08:48:33.426800Z",
     "shell.execute_reply.started": "2021-12-08T08:47:31.821363Z"
    },
    "papermill": {
     "duration": 0.034377,
     "end_time": "2021-12-08T08:48:33.426974",
     "exception": false,
     "start_time": "2021-12-08T08:48:33.392597",
     "status": "completed"
    },
    "tags": []
   },
   "outputs": [],
   "source": [
    "data = pd.read_csv('diabetes_data.csv',sep=\";\")"
   ]
  },
  {
   "cell_type": "code",
   "execution_count": 18,
   "id": "1e9b6890",
   "metadata": {
    "execution": {
     "iopub.execute_input": "2021-12-08T08:48:33.455369Z",
     "iopub.status.busy": "2021-12-08T08:48:33.454713Z",
     "iopub.status.idle": "2021-12-08T08:48:33.477871Z",
     "shell.execute_reply": "2021-12-08T08:48:33.478486Z",
     "shell.execute_reply.started": "2021-12-08T08:47:31.843441Z"
    },
    "papermill": {
     "duration": 0.039171,
     "end_time": "2021-12-08T08:48:33.478666",
     "exception": false,
     "start_time": "2021-12-08T08:48:33.439495",
     "status": "completed"
    },
    "scrolled": true,
    "tags": []
   },
   "outputs": [
    {
     "data": {
      "text/html": [
       "<div>\n",
       "<style scoped>\n",
       "    .dataframe tbody tr th:only-of-type {\n",
       "        vertical-align: middle;\n",
       "    }\n",
       "\n",
       "    .dataframe tbody tr th {\n",
       "        vertical-align: top;\n",
       "    }\n",
       "\n",
       "    .dataframe thead th {\n",
       "        text-align: right;\n",
       "    }\n",
       "</style>\n",
       "<table border=\"1\" class=\"dataframe\">\n",
       "  <thead>\n",
       "    <tr style=\"text-align: right;\">\n",
       "      <th></th>\n",
       "      <th>age</th>\n",
       "      <th>gender</th>\n",
       "      <th>polyuria</th>\n",
       "      <th>polydipsia</th>\n",
       "      <th>sudden_weight_loss</th>\n",
       "      <th>weakness</th>\n",
       "      <th>polyphagia</th>\n",
       "      <th>genital_thrush</th>\n",
       "      <th>visual_blurring</th>\n",
       "      <th>itching</th>\n",
       "      <th>irritability</th>\n",
       "      <th>delayed_healing</th>\n",
       "      <th>partial_paresis</th>\n",
       "      <th>muscle_stiffness</th>\n",
       "      <th>alopecia</th>\n",
       "      <th>obesity</th>\n",
       "      <th>class</th>\n",
       "    </tr>\n",
       "  </thead>\n",
       "  <tbody>\n",
       "    <tr>\n",
       "      <th>0</th>\n",
       "      <td>40</td>\n",
       "      <td>Male</td>\n",
       "      <td>0</td>\n",
       "      <td>1</td>\n",
       "      <td>0</td>\n",
       "      <td>1</td>\n",
       "      <td>0</td>\n",
       "      <td>0</td>\n",
       "      <td>0</td>\n",
       "      <td>1</td>\n",
       "      <td>0</td>\n",
       "      <td>1</td>\n",
       "      <td>0</td>\n",
       "      <td>1</td>\n",
       "      <td>1</td>\n",
       "      <td>1</td>\n",
       "      <td>1</td>\n",
       "    </tr>\n",
       "    <tr>\n",
       "      <th>1</th>\n",
       "      <td>58</td>\n",
       "      <td>Male</td>\n",
       "      <td>0</td>\n",
       "      <td>0</td>\n",
       "      <td>0</td>\n",
       "      <td>1</td>\n",
       "      <td>0</td>\n",
       "      <td>0</td>\n",
       "      <td>1</td>\n",
       "      <td>0</td>\n",
       "      <td>0</td>\n",
       "      <td>0</td>\n",
       "      <td>1</td>\n",
       "      <td>0</td>\n",
       "      <td>1</td>\n",
       "      <td>0</td>\n",
       "      <td>1</td>\n",
       "    </tr>\n",
       "    <tr>\n",
       "      <th>2</th>\n",
       "      <td>41</td>\n",
       "      <td>Male</td>\n",
       "      <td>1</td>\n",
       "      <td>0</td>\n",
       "      <td>0</td>\n",
       "      <td>1</td>\n",
       "      <td>1</td>\n",
       "      <td>0</td>\n",
       "      <td>0</td>\n",
       "      <td>1</td>\n",
       "      <td>0</td>\n",
       "      <td>1</td>\n",
       "      <td>0</td>\n",
       "      <td>1</td>\n",
       "      <td>1</td>\n",
       "      <td>0</td>\n",
       "      <td>1</td>\n",
       "    </tr>\n",
       "    <tr>\n",
       "      <th>3</th>\n",
       "      <td>45</td>\n",
       "      <td>Male</td>\n",
       "      <td>0</td>\n",
       "      <td>0</td>\n",
       "      <td>1</td>\n",
       "      <td>1</td>\n",
       "      <td>1</td>\n",
       "      <td>1</td>\n",
       "      <td>0</td>\n",
       "      <td>1</td>\n",
       "      <td>0</td>\n",
       "      <td>1</td>\n",
       "      <td>0</td>\n",
       "      <td>0</td>\n",
       "      <td>0</td>\n",
       "      <td>0</td>\n",
       "      <td>1</td>\n",
       "    </tr>\n",
       "    <tr>\n",
       "      <th>4</th>\n",
       "      <td>60</td>\n",
       "      <td>Male</td>\n",
       "      <td>1</td>\n",
       "      <td>1</td>\n",
       "      <td>1</td>\n",
       "      <td>1</td>\n",
       "      <td>1</td>\n",
       "      <td>0</td>\n",
       "      <td>1</td>\n",
       "      <td>1</td>\n",
       "      <td>1</td>\n",
       "      <td>1</td>\n",
       "      <td>1</td>\n",
       "      <td>1</td>\n",
       "      <td>1</td>\n",
       "      <td>1</td>\n",
       "      <td>1</td>\n",
       "    </tr>\n",
       "  </tbody>\n",
       "</table>\n",
       "</div>"
      ],
      "text/plain": [
       "   age gender  polyuria  polydipsia  sudden_weight_loss  weakness  polyphagia  \\\n",
       "0   40   Male         0           1                   0         1           0   \n",
       "1   58   Male         0           0                   0         1           0   \n",
       "2   41   Male         1           0                   0         1           1   \n",
       "3   45   Male         0           0                   1         1           1   \n",
       "4   60   Male         1           1                   1         1           1   \n",
       "\n",
       "   genital_thrush  visual_blurring  itching  irritability  delayed_healing  \\\n",
       "0               0                0        1             0                1   \n",
       "1               0                1        0             0                0   \n",
       "2               0                0        1             0                1   \n",
       "3               1                0        1             0                1   \n",
       "4               0                1        1             1                1   \n",
       "\n",
       "   partial_paresis  muscle_stiffness  alopecia  obesity  class  \n",
       "0                0                 1         1        1      1  \n",
       "1                1                 0         1        0      1  \n",
       "2                0                 1         1        0      1  \n",
       "3                0                 0         0        0      1  \n",
       "4                1                 1         1        1      1  "
      ]
     },
     "execution_count": 18,
     "metadata": {},
     "output_type": "execute_result"
    }
   ],
   "source": [
    "data.head()"
   ]
  },
  {
   "cell_type": "code",
   "execution_count": 19,
   "id": "34aa23b7",
   "metadata": {},
   "outputs": [
    {
     "name": "stdout",
     "output_type": "stream",
     "text": [
      "<class 'pandas.core.frame.DataFrame'>\n",
      "RangeIndex: 520 entries, 0 to 519\n",
      "Data columns (total 17 columns):\n",
      " #   Column              Non-Null Count  Dtype \n",
      "---  ------              --------------  ----- \n",
      " 0   age                 520 non-null    int64 \n",
      " 1   gender              520 non-null    object\n",
      " 2   polyuria            520 non-null    int64 \n",
      " 3   polydipsia          520 non-null    int64 \n",
      " 4   sudden_weight_loss  520 non-null    int64 \n",
      " 5   weakness            520 non-null    int64 \n",
      " 6   polyphagia          520 non-null    int64 \n",
      " 7   genital_thrush      520 non-null    int64 \n",
      " 8   visual_blurring     520 non-null    int64 \n",
      " 9   itching             520 non-null    int64 \n",
      " 10  irritability        520 non-null    int64 \n",
      " 11  delayed_healing     520 non-null    int64 \n",
      " 12  partial_paresis     520 non-null    int64 \n",
      " 13  muscle_stiffness    520 non-null    int64 \n",
      " 14  alopecia            520 non-null    int64 \n",
      " 15  obesity             520 non-null    int64 \n",
      " 16  class               520 non-null    int64 \n",
      "dtypes: int64(16), object(1)\n",
      "memory usage: 69.2+ KB\n"
     ]
    }
   ],
   "source": [
    "data.info()"
   ]
  },
  {
   "cell_type": "code",
   "execution_count": 20,
   "id": "b5db4c3b",
   "metadata": {
    "execution": {
     "iopub.execute_input": "2021-12-08T08:48:33.508118Z",
     "iopub.status.busy": "2021-12-08T08:48:33.507493Z",
     "iopub.status.idle": "2021-12-08T08:48:33.520018Z",
     "shell.execute_reply": "2021-12-08T08:48:33.520594Z",
     "shell.execute_reply.started": "2021-12-08T08:47:31.871880Z"
    },
    "papermill": {
     "duration": 0.029065,
     "end_time": "2021-12-08T08:48:33.520759",
     "exception": false,
     "start_time": "2021-12-08T08:48:33.491694",
     "status": "completed"
    },
    "tags": []
   },
   "outputs": [
    {
     "data": {
      "text/plain": [
       "1    320\n",
       "0    200\n",
       "Name: class, dtype: int64"
      ]
     },
     "execution_count": 20,
     "metadata": {},
     "output_type": "execute_result"
    }
   ],
   "source": [
    "data['class'].value_counts()"
   ]
  },
  {
   "cell_type": "code",
   "execution_count": 21,
   "id": "69794e17",
   "metadata": {
    "execution": {
     "iopub.execute_input": "2021-12-08T08:48:33.551394Z",
     "iopub.status.busy": "2021-12-08T08:48:33.550704Z",
     "iopub.status.idle": "2021-12-08T08:48:33.556217Z",
     "shell.execute_reply": "2021-12-08T08:48:33.556685Z",
     "shell.execute_reply.started": "2021-12-08T08:47:31.886376Z"
    },
    "papermill": {
     "duration": 0.022818,
     "end_time": "2021-12-08T08:48:33.556864",
     "exception": false,
     "start_time": "2021-12-08T08:48:33.534046",
     "status": "completed"
    },
    "tags": []
   },
   "outputs": [
    {
     "data": {
      "text/plain": [
       "Index(['age', 'gender', 'polyuria', 'polydipsia', 'sudden_weight_loss',\n",
       "       'weakness', 'polyphagia', 'genital_thrush', 'visual_blurring',\n",
       "       'itching', 'irritability', 'delayed_healing', 'partial_paresis',\n",
       "       'muscle_stiffness', 'alopecia', 'obesity', 'class'],\n",
       "      dtype='object')"
      ]
     },
     "execution_count": 21,
     "metadata": {},
     "output_type": "execute_result"
    }
   ],
   "source": [
    "data.columns"
   ]
  },
  {
   "cell_type": "code",
   "execution_count": 33,
   "id": "ff5ecf11",
   "metadata": {
    "execution": {
     "iopub.execute_input": "2021-12-08T08:48:33.591292Z",
     "iopub.status.busy": "2021-12-08T08:48:33.590589Z",
     "iopub.status.idle": "2021-12-08T08:48:34.858815Z",
     "shell.execute_reply": "2021-12-08T08:48:34.858280Z",
     "shell.execute_reply.started": "2021-12-08T08:47:31.899683Z"
    },
    "papermill": {
     "duration": 1.288444,
     "end_time": "2021-12-08T08:48:34.858984",
     "exception": false,
     "start_time": "2021-12-08T08:48:33.570540",
     "status": "completed"
    },
    "tags": []
   },
   "outputs": [],
   "source": [
    "import pandas as pd\n",
    "from sklearn.model_selection import train_test_split\n",
    "from sklearn.preprocessing import MinMaxScaler\n",
    "import pickle\n",
    "data.dropna(axis=0, subset=['class'], inplace=True)\n",
    "y = data['class']\n",
    "X = data.drop(['class'], axis=1).select_dtypes(exclude=['object'])\n",
    "train_X, test_X, train_y, test_y = train_test_split(X.to_numpy(), y.to_numpy(), test_size=0.25)\n",
    "\n",
    "my_imputer = MinMaxScaler()\n",
    "train_X = my_imputer.fit_transform(train_X)\n",
    "test_X = my_imputer.transform(test_X)\n",
    "pickle.dump(my_imputer,open(\"scalar.sav\",\"wb\"))"
   ]
  },
  {
   "cell_type": "code",
   "execution_count": 34,
   "id": "7b9d58fc",
   "metadata": {
    "execution": {
     "iopub.execute_input": "2021-12-08T08:48:34.893125Z",
     "iopub.status.busy": "2021-12-08T08:48:34.892102Z",
     "iopub.status.idle": "2021-12-08T08:48:34.895630Z",
     "shell.execute_reply": "2021-12-08T08:48:34.896128Z",
     "shell.execute_reply.started": "2021-12-08T08:47:33.156301Z"
    },
    "papermill": {
     "duration": 0.023731,
     "end_time": "2021-12-08T08:48:34.896334",
     "exception": false,
     "start_time": "2021-12-08T08:48:34.872603",
     "status": "completed"
    },
    "tags": []
   },
   "outputs": [
    {
     "data": {
      "text/plain": [
       "['age',\n",
       " 'polyuria',\n",
       " 'polydipsia',\n",
       " 'sudden_weight_loss',\n",
       " 'weakness',\n",
       " 'polyphagia',\n",
       " 'genital_thrush',\n",
       " 'visual_blurring',\n",
       " 'itching',\n",
       " 'irritability',\n",
       " 'delayed_healing',\n",
       " 'partial_paresis',\n",
       " 'muscle_stiffness',\n",
       " 'alopecia',\n",
       " 'obesity']"
      ]
     },
     "execution_count": 34,
     "metadata": {},
     "output_type": "execute_result"
    }
   ],
   "source": [
    "feature_names = [x for x in X.columns] \n",
    "feature_names"
   ]
  },
  {
   "cell_type": "code",
   "execution_count": 35,
   "id": "3da37ef4",
   "metadata": {},
   "outputs": [
    {
     "name": "stdout",
     "output_type": "stream",
     "text": [
      "Requirement already satisfied: xgboost in c:\\users\\prajo\\anaconda3\\lib\\site-packages (1.7.1)\n",
      "Requirement already satisfied: numpy in c:\\users\\prajo\\anaconda3\\lib\\site-packages (from xgboost) (1.20.3)\n",
      "Requirement already satisfied: scipy in c:\\users\\prajo\\anaconda3\\lib\\site-packages (from xgboost) (1.7.1)\n"
     ]
    },
    {
     "name": "stderr",
     "output_type": "stream",
     "text": [
      "WARNING: There was an error checking the latest version of pip.\n"
     ]
    }
   ],
   "source": [
    "!pip install xgboost\n"
   ]
  },
  {
   "cell_type": "code",
   "execution_count": 36,
   "id": "1d5c69d8",
   "metadata": {
    "execution": {
     "iopub.execute_input": "2021-12-08T08:48:34.931560Z",
     "iopub.status.busy": "2021-12-08T08:48:34.930712Z",
     "iopub.status.idle": "2021-12-08T08:48:35.782124Z",
     "shell.execute_reply": "2021-12-08T08:48:35.782683Z",
     "shell.execute_reply.started": "2021-12-08T08:47:33.164434Z"
    },
    "papermill": {
     "duration": 0.87198,
     "end_time": "2021-12-08T08:48:35.782852",
     "exception": false,
     "start_time": "2021-12-08T08:48:34.910872",
     "status": "completed"
    },
    "scrolled": true,
    "tags": []
   },
   "outputs": [
    {
     "data": {
      "image/png": "[encoded data removed]",
      "text/plain": [
       "<Figure size 432x288 with 1 Axes>"
      ]
     },
     "metadata": {
      "needs_background": "light"
     },
     "output_type": "display_data"
    }
   ],
   "source": [
    "from xgboost import XGBRegressor,XGBClassifier, plot_importance\n",
    "from matplotlib import pyplot\n",
    "from sklearn.feature_selection import SelectFromModel\n",
    "my_model = XGBClassifier()\n",
    "# Add silent=True to avoid printing out updates with each cycle\n",
    "my_model.fit(train_X, train_y, verbose=False)\n",
    "plot_importance(my_model).set_yticklabels(feature_names)\n",
    "pyplot.show()"
   ]
  },
  {
   "cell_type": "code",
   "execution_count": 37,
   "id": "4e882b91",
   "metadata": {
    "execution": {
     "iopub.execute_input": "2021-12-08T08:48:35.819547Z",
     "iopub.status.busy": "2021-12-08T08:48:35.818856Z",
     "iopub.status.idle": "2021-12-08T08:48:35.830198Z",
     "shell.execute_reply": "2021-12-08T08:48:35.830739Z",
     "shell.execute_reply.started": "2021-12-08T08:47:34.421105Z"
    },
    "papermill": {
     "duration": 0.032375,
     "end_time": "2021-12-08T08:48:35.830946",
     "exception": false,
     "start_time": "2021-12-08T08:48:35.798571",
     "status": "completed"
    },
    "tags": []
   },
   "outputs": [],
   "source": [
    "predictions = my_model.predict(test_X)"
   ]
  },
  {
   "cell_type": "code",
   "execution_count": 38,
   "id": "1f2e03b5",
   "metadata": {
    "execution": {
     "iopub.execute_input": "2021-12-08T08:48:35.869738Z",
     "iopub.status.busy": "2021-12-08T08:48:35.869037Z",
     "iopub.status.idle": "2021-12-08T08:48:35.877979Z",
     "shell.execute_reply": "2021-12-08T08:48:35.878653Z",
     "shell.execute_reply.started": "2021-12-08T08:47:34.460399Z"
    },
    "papermill": {
     "duration": 0.030743,
     "end_time": "2021-12-08T08:48:35.878880",
     "exception": false,
     "start_time": "2021-12-08T08:48:35.848137",
     "status": "completed"
    },
    "tags": []
   },
   "outputs": [
    {
     "name": "stdout",
     "output_type": "stream",
     "text": [
      "              precision    recall  f1-score   support\n",
      "\n",
      "not_diabetes       0.95      0.96      0.95        55\n",
      "    diabetes       0.97      0.96      0.97        75\n",
      "\n",
      "    accuracy                           0.96       130\n",
      "   macro avg       0.96      0.96      0.96       130\n",
      "weighted avg       0.96      0.96      0.96       130\n",
      "\n"
     ]
    }
   ],
   "source": [
    "from sklearn.metrics import classification_report\n",
    "target_names = target_names = ['not_diabetes', 'diabetes']\n",
    "print(classification_report(test_y, predictions, target_names=target_names))"
   ]
  },
  {
   "cell_type": "code",
   "execution_count": 41,
   "id": "cbd9898e",
   "metadata": {},
   "outputs": [],
   "source": [
    "import pickle\n",
    "pickle.dump(my_model,open(\"model.sav\",\"wb\"))"
   ]
  },
  {
   "cell_type": "code",
   "execution_count": 42,
   "id": "7c922cbe",
   "metadata": {
    "papermill": {
     "duration": 0.016424,
     "end_time": "2021-12-08T08:48:36.395810",
     "exception": false,
     "start_time": "2021-12-08T08:48:36.379386",
     "status": "completed"
    },
    "tags": []
   },
   "outputs": [],
   "source": [
    "import tensorflow as tf"
   ]
  },
  {
   "cell_type": "code",
   "execution_count": 43,
   "id": "0347bd78",
   "metadata": {
    "papermill": {
     "duration": 0.016557,
     "end_time": "2021-12-08T08:48:36.429191",
     "exception": false,
     "start_time": "2021-12-08T08:48:36.412634",
     "status": "completed"
    },
    "tags": []
   },
   "outputs": [],
   "source": [
    "model_3=tf.keras.Sequential([\n",
    "    tf.keras.layers.Dense(10,activation=\"relu\",input_shape=(15,)),\n",
    "    tf.keras.layers.Dense(20,activation=\"relu\"),\n",
    "    tf.keras.layers.Dense(20,activation=\"relu\"),\n",
    "    tf.keras.layers.Dense(20,activation=\"relu\"),\n",
    "    tf.keras.layers.Dense(1,activation=\"sigmoid\")\n",
    "])"
   ]
  },
  {
   "cell_type": "code",
   "execution_count": 29,
   "id": "c54ef5ee",
   "metadata": {},
   "outputs": [],
   "source": [
    "model_3.compile(loss=tf.keras.losses.BinaryCrossentropy(),\n",
    "               optimizer=tf.keras.optimizers.Adam(),\n",
    "               metrics=[\"accuracy\"])"
   ]
  },
  {
   "cell_type": "code",
   "execution_count": 30,
   "id": "2b19a3f6",
   "metadata": {},
   "outputs": [
    {
     "name": "stdout",
     "output_type": "stream",
     "text": [
      "Epoch 1/150\n",
      "13/13 [==============================] - 1s 23ms/step - loss: 0.6541 - accuracy: 0.6077 - val_loss: 0.6187 - val_accuracy: 0.6000\n",
      "Epoch 2/150\n",
      "13/13 [==============================] - 0s 8ms/step - loss: 0.5855 - accuracy: 0.6282 - val_loss: 0.5898 - val_accuracy: 0.5769\n",
      "Epoch 3/150\n",
      "13/13 [==============================] - 0s 7ms/step - loss: 0.5472 - accuracy: 0.6256 - val_loss: 0.5624 - val_accuracy: 0.5769\n",
      "Epoch 4/150\n",
      "13/13 [==============================] - 0s 7ms/step - loss: 0.5151 - accuracy: 0.6436 - val_loss: 0.5296 - val_accuracy: 0.6615\n",
      "Epoch 5/150\n",
      "13/13 [==============================] - 0s 7ms/step - loss: 0.4818 - accuracy: 0.7282 - val_loss: 0.4926 - val_accuracy: 0.6846\n",
      "Epoch 6/150\n",
      "13/13 [==============================] - 0s 7ms/step - loss: 0.4473 - accuracy: 0.7487 - val_loss: 0.4578 - val_accuracy: 0.7462\n",
      "Epoch 7/150\n",
      "13/13 [==============================] - 0s 7ms/step - loss: 0.4198 - accuracy: 0.7692 - val_loss: 0.4273 - val_accuracy: 0.7846\n",
      "Epoch 8/150\n",
      "13/13 [==============================] - 0s 7ms/step - loss: 0.3877 - accuracy: 0.8154 - val_loss: 0.3943 - val_accuracy: 0.8462\n",
      "Epoch 9/150\n",
      "13/13 [==============================] - 0s 6ms/step - loss: 0.3601 - accuracy: 0.8590 - val_loss: 0.3681 - val_accuracy: 0.8538\n",
      "Epoch 10/150\n",
      "13/13 [==============================] - 0s 7ms/step - loss: 0.3374 - accuracy: 0.8641 - val_loss: 0.3442 - val_accuracy: 0.8538\n",
      "Epoch 11/150\n",
      "13/13 [==============================] - 0s 7ms/step - loss: 0.3158 - accuracy: 0.8744 - val_loss: 0.3250 - val_accuracy: 0.8615\n",
      "Epoch 12/150\n",
      "13/13 [==============================] - 0s 7ms/step - loss: 0.3000 - accuracy: 0.8846 - val_loss: 0.3095 - val_accuracy: 0.8846\n",
      "Epoch 13/150\n",
      "13/13 [==============================] - 0s 7ms/step - loss: 0.2858 - accuracy: 0.8897 - val_loss: 0.2975 - val_accuracy: 0.8846\n",
      "Epoch 14/150\n",
      "13/13 [==============================] - 0s 6ms/step - loss: 0.2732 - accuracy: 0.9026 - val_loss: 0.2874 - val_accuracy: 0.8923\n",
      "Epoch 15/150\n",
      "13/13 [==============================] - 0s 7ms/step - loss: 0.2616 - accuracy: 0.8974 - val_loss: 0.2799 - val_accuracy: 0.8923\n",
      "Epoch 16/150\n",
      "13/13 [==============================] - 0s 6ms/step - loss: 0.2530 - accuracy: 0.9000 - val_loss: 0.2745 - val_accuracy: 0.8923\n",
      "Epoch 17/150\n",
      "13/13 [==============================] - 0s 5ms/step - loss: 0.2414 - accuracy: 0.9026 - val_loss: 0.2684 - val_accuracy: 0.8923\n",
      "Epoch 18/150\n",
      "13/13 [==============================] - 0s 6ms/step - loss: 0.2333 - accuracy: 0.9077 - val_loss: 0.2611 - val_accuracy: 0.9154\n",
      "Epoch 19/150\n",
      "13/13 [==============================] - 0s 6ms/step - loss: 0.2303 - accuracy: 0.9103 - val_loss: 0.2538 - val_accuracy: 0.9077\n",
      "Epoch 20/150\n",
      "13/13 [==============================] - 0s 8ms/step - loss: 0.2276 - accuracy: 0.9026 - val_loss: 0.2517 - val_accuracy: 0.8923\n",
      "Epoch 21/150\n",
      "13/13 [==============================] - 0s 7ms/step - loss: 0.2138 - accuracy: 0.9154 - val_loss: 0.2398 - val_accuracy: 0.9077\n",
      "Epoch 22/150\n",
      "13/13 [==============================] - 0s 8ms/step - loss: 0.2097 - accuracy: 0.9256 - val_loss: 0.2370 - val_accuracy: 0.9231\n",
      "Epoch 23/150\n",
      "13/13 [==============================] - 0s 8ms/step - loss: 0.2020 - accuracy: 0.9256 - val_loss: 0.2318 - val_accuracy: 0.9308\n",
      "Epoch 24/150\n",
      "13/13 [==============================] - 0s 6ms/step - loss: 0.1971 - accuracy: 0.9359 - val_loss: 0.2259 - val_accuracy: 0.9308\n",
      "Epoch 25/150\n",
      "13/13 [==============================] - 0s 8ms/step - loss: 0.1940 - accuracy: 0.9333 - val_loss: 0.2221 - val_accuracy: 0.9308\n",
      "Epoch 26/150\n",
      "13/13 [==============================] - 0s 7ms/step - loss: 0.1923 - accuracy: 0.9256 - val_loss: 0.2223 - val_accuracy: 0.9077\n",
      "Epoch 27/150\n",
      "13/13 [==============================] - 0s 7ms/step - loss: 0.1821 - accuracy: 0.9385 - val_loss: 0.2147 - val_accuracy: 0.9308\n",
      "Epoch 28/150\n",
      "13/13 [==============================] - 0s 8ms/step - loss: 0.1806 - accuracy: 0.9359 - val_loss: 0.2120 - val_accuracy: 0.9308\n",
      "Epoch 29/150\n",
      "13/13 [==============================] - 0s 6ms/step - loss: 0.1785 - accuracy: 0.9385 - val_loss: 0.2096 - val_accuracy: 0.9308\n",
      "Epoch 30/150\n",
      "13/13 [==============================] - 0s 6ms/step - loss: 0.1737 - accuracy: 0.9333 - val_loss: 0.2051 - val_accuracy: 0.9308\n",
      "Epoch 31/150\n",
      "13/13 [==============================] - 0s 6ms/step - loss: 0.1661 - accuracy: 0.9385 - val_loss: 0.2015 - val_accuracy: 0.9308\n",
      "Epoch 32/150\n",
      "13/13 [==============================] - 0s 6ms/step - loss: 0.1625 - accuracy: 0.9436 - val_loss: 0.1958 - val_accuracy: 0.9308\n",
      "Epoch 33/150\n",
      "13/13 [==============================] - 0s 6ms/step - loss: 0.1593 - accuracy: 0.9436 - val_loss: 0.1924 - val_accuracy: 0.9308\n",
      "Epoch 34/150\n",
      "13/13 [==============================] - 0s 9ms/step - loss: 0.1534 - accuracy: 0.9487 - val_loss: 0.1878 - val_accuracy: 0.9538\n",
      "Epoch 35/150\n",
      "13/13 [==============================] - 0s 7ms/step - loss: 0.1503 - accuracy: 0.9513 - val_loss: 0.1826 - val_accuracy: 0.9538\n",
      "Epoch 36/150\n",
      "13/13 [==============================] - 0s 7ms/step - loss: 0.1462 - accuracy: 0.9564 - val_loss: 0.1787 - val_accuracy: 0.9462\n",
      "Epoch 37/150\n",
      "13/13 [==============================] - 0s 6ms/step - loss: 0.1413 - accuracy: 0.9590 - val_loss: 0.1761 - val_accuracy: 0.9538\n",
      "Epoch 38/150\n",
      "13/13 [==============================] - 0s 5ms/step - loss: 0.1379 - accuracy: 0.9615 - val_loss: 0.1725 - val_accuracy: 0.9538\n",
      "Epoch 39/150\n",
      "13/13 [==============================] - 0s 5ms/step - loss: 0.1335 - accuracy: 0.9641 - val_loss: 0.1674 - val_accuracy: 0.9462\n",
      "Epoch 40/150\n",
      "13/13 [==============================] - 0s 7ms/step - loss: 0.1300 - accuracy: 0.9641 - val_loss: 0.1647 - val_accuracy: 0.9538\n",
      "Epoch 41/150\n",
      "13/13 [==============================] - 0s 8ms/step - loss: 0.1271 - accuracy: 0.9641 - val_loss: 0.1603 - val_accuracy: 0.9462\n",
      "Epoch 42/150\n",
      "13/13 [==============================] - 0s 8ms/step - loss: 0.1240 - accuracy: 0.9641 - val_loss: 0.1564 - val_accuracy: 0.9462\n",
      "Epoch 43/150\n",
      "13/13 [==============================] - 0s 8ms/step - loss: 0.1208 - accuracy: 0.9667 - val_loss: 0.1533 - val_accuracy: 0.9462\n",
      "Epoch 44/150\n",
      "13/13 [==============================] - 0s 7ms/step - loss: 0.1177 - accuracy: 0.9667 - val_loss: 0.1499 - val_accuracy: 0.9462\n",
      "Epoch 45/150\n",
      "13/13 [==============================] - 0s 9ms/step - loss: 0.1151 - accuracy: 0.9667 - val_loss: 0.1447 - val_accuracy: 0.9462\n",
      "Epoch 46/150\n",
      "13/13 [==============================] - 0s 8ms/step - loss: 0.1120 - accuracy: 0.9667 - val_loss: 0.1420 - val_accuracy: 0.9615\n",
      "Epoch 47/150\n",
      "13/13 [==============================] - 0s 6ms/step - loss: 0.1099 - accuracy: 0.9667 - val_loss: 0.1375 - val_accuracy: 0.9462\n",
      "Epoch 48/150\n",
      "13/13 [==============================] - 0s 8ms/step - loss: 0.1066 - accuracy: 0.9667 - val_loss: 0.1335 - val_accuracy: 0.9538\n",
      "Epoch 49/150\n",
      "13/13 [==============================] - 0s 6ms/step - loss: 0.1041 - accuracy: 0.9692 - val_loss: 0.1293 - val_accuracy: 0.9538\n",
      "Epoch 50/150\n",
      "13/13 [==============================] - 0s 5ms/step - loss: 0.1012 - accuracy: 0.9667 - val_loss: 0.1252 - val_accuracy: 0.9538\n",
      "Epoch 51/150\n",
      "13/13 [==============================] - 0s 7ms/step - loss: 0.0989 - accuracy: 0.9692 - val_loss: 0.1215 - val_accuracy: 0.9769\n",
      "Epoch 52/150\n",
      "13/13 [==============================] - 0s 8ms/step - loss: 0.0978 - accuracy: 0.9692 - val_loss: 0.1210 - val_accuracy: 0.9615\n",
      "Epoch 53/150\n",
      "13/13 [==============================] - 0s 8ms/step - loss: 0.0951 - accuracy: 0.9744 - val_loss: 0.1187 - val_accuracy: 0.9769\n",
      "Epoch 54/150\n",
      "13/13 [==============================] - 0s 8ms/step - loss: 0.0919 - accuracy: 0.9744 - val_loss: 0.1127 - val_accuracy: 0.9769\n",
      "Epoch 55/150\n",
      "13/13 [==============================] - 0s 8ms/step - loss: 0.0903 - accuracy: 0.9744 - val_loss: 0.1098 - val_accuracy: 0.9769\n",
      "Epoch 56/150\n",
      "13/13 [==============================] - 0s 6ms/step - loss: 0.0885 - accuracy: 0.9744 - val_loss: 0.1081 - val_accuracy: 0.9769\n",
      "Epoch 57/150\n",
      "13/13 [==============================] - 0s 8ms/step - loss: 0.0874 - accuracy: 0.9744 - val_loss: 0.1060 - val_accuracy: 0.9769\n",
      "Epoch 58/150\n",
      "13/13 [==============================] - 0s 8ms/step - loss: 0.0868 - accuracy: 0.9744 - val_loss: 0.1034 - val_accuracy: 0.9769\n"
     ]
    },
    {
     "name": "stdout",
     "output_type": "stream",
     "text": [
      "Epoch 59/150\n",
      "13/13 [==============================] - 0s 8ms/step - loss: 0.0834 - accuracy: 0.9769 - val_loss: 0.1064 - val_accuracy: 0.9769\n",
      "Epoch 60/150\n",
      "13/13 [==============================] - 0s 8ms/step - loss: 0.0827 - accuracy: 0.9744 - val_loss: 0.1012 - val_accuracy: 0.9769\n",
      "Epoch 61/150\n",
      "13/13 [==============================] - 0s 7ms/step - loss: 0.0808 - accuracy: 0.9769 - val_loss: 0.0990 - val_accuracy: 0.9769\n",
      "Epoch 62/150\n",
      "13/13 [==============================] - 0s 7ms/step - loss: 0.0800 - accuracy: 0.9769 - val_loss: 0.0984 - val_accuracy: 0.9769\n",
      "Epoch 63/150\n",
      "13/13 [==============================] - 0s 6ms/step - loss: 0.0793 - accuracy: 0.9769 - val_loss: 0.0987 - val_accuracy: 0.9769\n",
      "Epoch 64/150\n",
      "13/13 [==============================] - 0s 8ms/step - loss: 0.0781 - accuracy: 0.9795 - val_loss: 0.0930 - val_accuracy: 0.9769\n",
      "Epoch 65/150\n",
      "13/13 [==============================] - 0s 8ms/step - loss: 0.0765 - accuracy: 0.9795 - val_loss: 0.0979 - val_accuracy: 0.9769\n",
      "Epoch 66/150\n",
      "13/13 [==============================] - 0s 7ms/step - loss: 0.0762 - accuracy: 0.9795 - val_loss: 0.0942 - val_accuracy: 0.9769\n",
      "Epoch 67/150\n",
      "13/13 [==============================] - 0s 7ms/step - loss: 0.0747 - accuracy: 0.9795 - val_loss: 0.0909 - val_accuracy: 0.9769\n",
      "Epoch 68/150\n",
      "13/13 [==============================] - 0s 6ms/step - loss: 0.0742 - accuracy: 0.9769 - val_loss: 0.0907 - val_accuracy: 0.9769\n",
      "Epoch 69/150\n",
      "13/13 [==============================] - 0s 7ms/step - loss: 0.0734 - accuracy: 0.9795 - val_loss: 0.0914 - val_accuracy: 0.9769\n",
      "Epoch 70/150\n",
      "13/13 [==============================] - 0s 8ms/step - loss: 0.0724 - accuracy: 0.9795 - val_loss: 0.0891 - val_accuracy: 0.9769\n",
      "Epoch 71/150\n",
      "13/13 [==============================] - 0s 8ms/step - loss: 0.0717 - accuracy: 0.9795 - val_loss: 0.0876 - val_accuracy: 0.9769\n",
      "Epoch 72/150\n",
      "13/13 [==============================] - 0s 8ms/step - loss: 0.0712 - accuracy: 0.9769 - val_loss: 0.0864 - val_accuracy: 0.9769\n",
      "Epoch 73/150\n",
      "13/13 [==============================] - 0s 8ms/step - loss: 0.0708 - accuracy: 0.9795 - val_loss: 0.0867 - val_accuracy: 0.9769\n",
      "Epoch 74/150\n",
      "13/13 [==============================] - 0s 7ms/step - loss: 0.0693 - accuracy: 0.9795 - val_loss: 0.0824 - val_accuracy: 0.9769\n",
      "Epoch 75/150\n",
      "13/13 [==============================] - 0s 9ms/step - loss: 0.0691 - accuracy: 0.9795 - val_loss: 0.0789 - val_accuracy: 0.9769\n",
      "Epoch 76/150\n",
      "13/13 [==============================] - 0s 8ms/step - loss: 0.0680 - accuracy: 0.9769 - val_loss: 0.0752 - val_accuracy: 0.9769\n",
      "Epoch 77/150\n",
      "13/13 [==============================] - 0s 8ms/step - loss: 0.0659 - accuracy: 0.9795 - val_loss: 0.0792 - val_accuracy: 0.9769\n",
      "Epoch 78/150\n",
      "13/13 [==============================] - 0s 8ms/step - loss: 0.0658 - accuracy: 0.9769 - val_loss: 0.0736 - val_accuracy: 0.9769\n",
      "Epoch 79/150\n",
      "13/13 [==============================] - 0s 8ms/step - loss: 0.0640 - accuracy: 0.9795 - val_loss: 0.0713 - val_accuracy: 0.9769\n",
      "Epoch 80/150\n",
      "13/13 [==============================] - 0s 7ms/step - loss: 0.0640 - accuracy: 0.9769 - val_loss: 0.0734 - val_accuracy: 0.9769\n",
      "Epoch 81/150\n",
      "13/13 [==============================] - 0s 8ms/step - loss: 0.0620 - accuracy: 0.9795 - val_loss: 0.0775 - val_accuracy: 0.9769\n",
      "Epoch 82/150\n",
      "13/13 [==============================] - 0s 8ms/step - loss: 0.0609 - accuracy: 0.9795 - val_loss: 0.0715 - val_accuracy: 0.9769\n",
      "Epoch 83/150\n",
      "13/13 [==============================] - 0s 7ms/step - loss: 0.0598 - accuracy: 0.9795 - val_loss: 0.0683 - val_accuracy: 0.9769\n",
      "Epoch 84/150\n",
      "13/13 [==============================] - 0s 8ms/step - loss: 0.0587 - accuracy: 0.9795 - val_loss: 0.0695 - val_accuracy: 0.9769\n",
      "Epoch 85/150\n",
      "13/13 [==============================] - 0s 8ms/step - loss: 0.0577 - accuracy: 0.9795 - val_loss: 0.0701 - val_accuracy: 0.9769\n",
      "Epoch 86/150\n",
      "13/13 [==============================] - 0s 6ms/step - loss: 0.0569 - accuracy: 0.9821 - val_loss: 0.0680 - val_accuracy: 0.9769\n",
      "Epoch 87/150\n",
      "13/13 [==============================] - 0s 9ms/step - loss: 0.0581 - accuracy: 0.9769 - val_loss: 0.0693 - val_accuracy: 0.9846\n",
      "Epoch 88/150\n",
      "13/13 [==============================] - 0s 9ms/step - loss: 0.0563 - accuracy: 0.9821 - val_loss: 0.0634 - val_accuracy: 0.9846\n",
      "Epoch 89/150\n",
      "13/13 [==============================] - 0s 8ms/step - loss: 0.0551 - accuracy: 0.9821 - val_loss: 0.0667 - val_accuracy: 0.9846\n",
      "Epoch 90/150\n",
      "13/13 [==============================] - 0s 7ms/step - loss: 0.0544 - accuracy: 0.9846 - val_loss: 0.0668 - val_accuracy: 0.9846\n",
      "Epoch 91/150\n",
      "13/13 [==============================] - 0s 7ms/step - loss: 0.0539 - accuracy: 0.9821 - val_loss: 0.0678 - val_accuracy: 0.9846\n",
      "Epoch 92/150\n",
      "13/13 [==============================] - 0s 7ms/step - loss: 0.0536 - accuracy: 0.9821 - val_loss: 0.0680 - val_accuracy: 0.9846\n",
      "Epoch 93/150\n",
      "13/13 [==============================] - 0s 7ms/step - loss: 0.0534 - accuracy: 0.9821 - val_loss: 0.0636 - val_accuracy: 0.9846\n",
      "Epoch 94/150\n",
      "13/13 [==============================] - 0s 7ms/step - loss: 0.0522 - accuracy: 0.9846 - val_loss: 0.0662 - val_accuracy: 0.9846\n",
      "Epoch 95/150\n",
      "13/13 [==============================] - 0s 7ms/step - loss: 0.0524 - accuracy: 0.9846 - val_loss: 0.0654 - val_accuracy: 0.9846\n",
      "Epoch 96/150\n",
      "13/13 [==============================] - 0s 6ms/step - loss: 0.0509 - accuracy: 0.9846 - val_loss: 0.0672 - val_accuracy: 0.9846\n",
      "Epoch 97/150\n",
      "13/13 [==============================] - 0s 6ms/step - loss: 0.0506 - accuracy: 0.9846 - val_loss: 0.0700 - val_accuracy: 0.9846\n",
      "Epoch 98/150\n",
      "13/13 [==============================] - 0s 7ms/step - loss: 0.0503 - accuracy: 0.9846 - val_loss: 0.0714 - val_accuracy: 0.9846\n",
      "Epoch 99/150\n",
      "13/13 [==============================] - 0s 8ms/step - loss: 0.0491 - accuracy: 0.9846 - val_loss: 0.0680 - val_accuracy: 0.9846\n",
      "Epoch 100/150\n",
      "13/13 [==============================] - 0s 6ms/step - loss: 0.0494 - accuracy: 0.9846 - val_loss: 0.0705 - val_accuracy: 0.9846\n",
      "Epoch 101/150\n",
      "13/13 [==============================] - 0s 8ms/step - loss: 0.0483 - accuracy: 0.9846 - val_loss: 0.0773 - val_accuracy: 0.9846\n",
      "Epoch 102/150\n",
      "13/13 [==============================] - 0s 7ms/step - loss: 0.0478 - accuracy: 0.9846 - val_loss: 0.0732 - val_accuracy: 0.9846\n",
      "Epoch 103/150\n",
      "13/13 [==============================] - 0s 6ms/step - loss: 0.0473 - accuracy: 0.9872 - val_loss: 0.0726 - val_accuracy: 0.9846\n",
      "Epoch 104/150\n",
      "13/13 [==============================] - 0s 7ms/step - loss: 0.0464 - accuracy: 0.9846 - val_loss: 0.0732 - val_accuracy: 0.9846\n",
      "Epoch 105/150\n",
      "13/13 [==============================] - 0s 7ms/step - loss: 0.0458 - accuracy: 0.9872 - val_loss: 0.0705 - val_accuracy: 0.9846\n",
      "Epoch 106/150\n",
      "13/13 [==============================] - 0s 7ms/step - loss: 0.0451 - accuracy: 0.9872 - val_loss: 0.0741 - val_accuracy: 0.9846\n",
      "Epoch 107/150\n",
      "13/13 [==============================] - 0s 7ms/step - loss: 0.0450 - accuracy: 0.9872 - val_loss: 0.0748 - val_accuracy: 0.9846\n",
      "Epoch 108/150\n",
      "13/13 [==============================] - 0s 6ms/step - loss: 0.0454 - accuracy: 0.9846 - val_loss: 0.0783 - val_accuracy: 0.9769\n",
      "Epoch 109/150\n",
      "13/13 [==============================] - 0s 7ms/step - loss: 0.0439 - accuracy: 0.9872 - val_loss: 0.0706 - val_accuracy: 0.9846\n",
      "Epoch 110/150\n",
      "13/13 [==============================] - 0s 8ms/step - loss: 0.0434 - accuracy: 0.9872 - val_loss: 0.0736 - val_accuracy: 0.9846\n",
      "Epoch 111/150\n",
      "13/13 [==============================] - 0s 8ms/step - loss: 0.0426 - accuracy: 0.9872 - val_loss: 0.0767 - val_accuracy: 0.9846\n",
      "Epoch 112/150\n",
      "13/13 [==============================] - 0s 7ms/step - loss: 0.0428 - accuracy: 0.9872 - val_loss: 0.0778 - val_accuracy: 0.9769\n",
      "Epoch 113/150\n",
      "13/13 [==============================] - 0s 7ms/step - loss: 0.0423 - accuracy: 0.9872 - val_loss: 0.0744 - val_accuracy: 0.9846\n",
      "Epoch 114/150\n",
      "13/13 [==============================] - 0s 7ms/step - loss: 0.0419 - accuracy: 0.9872 - val_loss: 0.0809 - val_accuracy: 0.9769\n",
      "Epoch 115/150\n",
      "13/13 [==============================] - 0s 5ms/step - loss: 0.0426 - accuracy: 0.9872 - val_loss: 0.0824 - val_accuracy: 0.9769\n",
      "Epoch 116/150\n"
     ]
    },
    {
     "name": "stdout",
     "output_type": "stream",
     "text": [
      "13/13 [==============================] - 0s 5ms/step - loss: 0.0417 - accuracy: 0.9872 - val_loss: 0.0884 - val_accuracy: 0.9769\n",
      "Epoch 117/150\n",
      "13/13 [==============================] - 0s 7ms/step - loss: 0.0414 - accuracy: 0.9897 - val_loss: 0.0758 - val_accuracy: 0.9846\n",
      "Epoch 118/150\n",
      "13/13 [==============================] - 0s 7ms/step - loss: 0.0408 - accuracy: 0.9897 - val_loss: 0.0843 - val_accuracy: 0.9769\n",
      "Epoch 119/150\n",
      "13/13 [==============================] - 0s 6ms/step - loss: 0.0406 - accuracy: 0.9897 - val_loss: 0.0856 - val_accuracy: 0.9769\n",
      "Epoch 120/150\n",
      "13/13 [==============================] - 0s 7ms/step - loss: 0.0402 - accuracy: 0.9897 - val_loss: 0.0836 - val_accuracy: 0.9769\n",
      "Epoch 121/150\n",
      "13/13 [==============================] - 0s 8ms/step - loss: 0.0399 - accuracy: 0.9897 - val_loss: 0.0759 - val_accuracy: 0.9769\n",
      "Epoch 122/150\n",
      "13/13 [==============================] - 0s 7ms/step - loss: 0.0402 - accuracy: 0.9897 - val_loss: 0.0849 - val_accuracy: 0.9769\n",
      "Epoch 123/150\n",
      "13/13 [==============================] - 0s 5ms/step - loss: 0.0395 - accuracy: 0.9897 - val_loss: 0.0784 - val_accuracy: 0.9769\n",
      "Epoch 124/150\n",
      "13/13 [==============================] - 0s 5ms/step - loss: 0.0408 - accuracy: 0.9872 - val_loss: 0.0877 - val_accuracy: 0.9769\n",
      "Epoch 125/150\n",
      "13/13 [==============================] - 0s 6ms/step - loss: 0.0408 - accuracy: 0.9846 - val_loss: 0.0995 - val_accuracy: 0.9769\n",
      "Epoch 126/150\n",
      "13/13 [==============================] - 0s 5ms/step - loss: 0.0390 - accuracy: 0.9872 - val_loss: 0.0795 - val_accuracy: 0.9769\n",
      "Epoch 127/150\n",
      "13/13 [==============================] - 0s 7ms/step - loss: 0.0394 - accuracy: 0.9872 - val_loss: 0.0810 - val_accuracy: 0.9769\n",
      "Epoch 128/150\n",
      "13/13 [==============================] - 0s 6ms/step - loss: 0.0387 - accuracy: 0.9872 - val_loss: 0.0946 - val_accuracy: 0.9769\n",
      "Epoch 129/150\n",
      "13/13 [==============================] - 0s 7ms/step - loss: 0.0385 - accuracy: 0.9872 - val_loss: 0.1007 - val_accuracy: 0.9769\n",
      "Epoch 130/150\n",
      "13/13 [==============================] - 0s 6ms/step - loss: 0.0389 - accuracy: 0.9897 - val_loss: 0.0890 - val_accuracy: 0.9769\n",
      "Epoch 131/150\n",
      "13/13 [==============================] - 0s 7ms/step - loss: 0.0385 - accuracy: 0.9897 - val_loss: 0.0864 - val_accuracy: 0.9769\n",
      "Epoch 132/150\n",
      "13/13 [==============================] - 0s 7ms/step - loss: 0.0385 - accuracy: 0.9897 - val_loss: 0.0854 - val_accuracy: 0.9769\n",
      "Epoch 133/150\n",
      "13/13 [==============================] - 0s 6ms/step - loss: 0.0385 - accuracy: 0.9872 - val_loss: 0.0841 - val_accuracy: 0.9769\n",
      "Epoch 134/150\n",
      "13/13 [==============================] - 0s 7ms/step - loss: 0.0383 - accuracy: 0.9897 - val_loss: 0.0919 - val_accuracy: 0.9769\n",
      "Epoch 135/150\n",
      "13/13 [==============================] - 0s 6ms/step - loss: 0.0389 - accuracy: 0.9897 - val_loss: 0.0839 - val_accuracy: 0.9769\n",
      "Epoch 136/150\n",
      "13/13 [==============================] - 0s 8ms/step - loss: 0.0376 - accuracy: 0.9897 - val_loss: 0.0934 - val_accuracy: 0.9769\n",
      "Epoch 137/150\n",
      "13/13 [==============================] - 0s 8ms/step - loss: 0.0377 - accuracy: 0.9897 - val_loss: 0.0951 - val_accuracy: 0.9769\n",
      "Epoch 138/150\n",
      "13/13 [==============================] - 0s 8ms/step - loss: 0.0375 - accuracy: 0.9897 - val_loss: 0.0965 - val_accuracy: 0.9769\n",
      "Epoch 139/150\n",
      "13/13 [==============================] - 0s 7ms/step - loss: 0.0379 - accuracy: 0.9897 - val_loss: 0.0906 - val_accuracy: 0.9769\n",
      "Epoch 140/150\n",
      "13/13 [==============================] - 0s 7ms/step - loss: 0.0428 - accuracy: 0.9846 - val_loss: 0.0789 - val_accuracy: 0.9769\n",
      "Epoch 141/150\n",
      "13/13 [==============================] - 0s 6ms/step - loss: 0.0424 - accuracy: 0.9846 - val_loss: 0.1154 - val_accuracy: 0.9769\n",
      "Epoch 142/150\n",
      "13/13 [==============================] - 0s 6ms/step - loss: 0.0393 - accuracy: 0.9872 - val_loss: 0.0861 - val_accuracy: 0.9769\n",
      "Epoch 143/150\n",
      "13/13 [==============================] - 0s 7ms/step - loss: 0.0382 - accuracy: 0.9897 - val_loss: 0.0988 - val_accuracy: 0.9769\n",
      "Epoch 144/150\n",
      "13/13 [==============================] - 0s 7ms/step - loss: 0.0376 - accuracy: 0.9897 - val_loss: 0.0997 - val_accuracy: 0.9769\n",
      "Epoch 145/150\n",
      "13/13 [==============================] - 0s 6ms/step - loss: 0.0375 - accuracy: 0.9897 - val_loss: 0.0950 - val_accuracy: 0.9769\n",
      "Epoch 146/150\n",
      "13/13 [==============================] - 0s 7ms/step - loss: 0.0381 - accuracy: 0.9897 - val_loss: 0.1014 - val_accuracy: 0.9769\n",
      "Epoch 147/150\n",
      "13/13 [==============================] - 0s 7ms/step - loss: 0.0369 - accuracy: 0.9897 - val_loss: 0.0952 - val_accuracy: 0.9769\n",
      "Epoch 148/150\n",
      "13/13 [==============================] - 0s 7ms/step - loss: 0.0370 - accuracy: 0.9872 - val_loss: 0.1001 - val_accuracy: 0.9769\n",
      "Epoch 149/150\n",
      "13/13 [==============================] - 0s 7ms/step - loss: 0.0372 - accuracy: 0.9897 - val_loss: 0.0980 - val_accuracy: 0.9769\n",
      "Epoch 150/150\n",
      "13/13 [==============================] - 0s 6ms/step - loss: 0.0372 - accuracy: 0.9897 - val_loss: 0.0967 - val_accuracy: 0.9769\n"
     ]
    },
    {
     "data": {
      "text/plain": [
       "<keras.callbacks.History at 0x14652fd29a0>"
      ]
     },
     "execution_count": 30,
     "metadata": {},
     "output_type": "execute_result"
    }
   ],
   "source": [
    "model_3.fit(train_X, train_y,validation_data=(test_X,test_y),epochs=150)"
   ]
  },
  {
   "cell_type": "code",
   "execution_count": 31,
   "id": "2a733953",
   "metadata": {},
   "outputs": [],
   "source": [
    "model_3.save(\"model1.h5\")"
   ]
  },
  {
   "cell_type": "code",
   "execution_count": 32,
   "id": "18646685",
   "metadata": {},
   "outputs": [
    {
     "name": "stdout",
     "output_type": "stream",
     "text": [
      "5/5 [==============================] - 0s 3ms/step - loss: 0.0967 - accuracy: 0.9769\n"
     ]
    },
    {
     "data": {
      "text/plain": [
       "[0.09666603058576584, 0.9769230484962463]"
      ]
     },
     "execution_count": 32,
     "metadata": {},
     "output_type": "execute_result"
    }
   ],
   "source": [
    "model_3.predict(test_X)\n",
    "model_3.evaluate(test_X,test_y)"
   ]
  },
  {
   "cell_type": "code",
   "execution_count": null,
   "id": "f194f3aa",
   "metadata": {},
   "outputs": [],
   "source": []
  },
  {
   "cell_type": "code",
   "execution_count": null,
   "id": "32bee168",
   "metadata": {},
   "outputs": [],
   "source": []
  },
  {
   "cell_type": "code",
   "execution_count": null,
   "id": "477881f0",
   "metadata": {},
   "outputs": [],
   "source": []
  }
 ],
 "metadata": {
  "kernelspec": {
   "display_name": "Python 3 (ipykernel)",
   "language": "python",
   "name": "python3"
  },
  "language_info": {
   "codemirror_mode": {
    "name": "ipython",
    "version": 3
   },
   "file_extension": ".py",
   "mimetype": "text/x-python",
   "name": "python",
   "nbconvert_exporter": "python",
   "pygments_lexer": "ipython3",
   "version": "3.9.7"
  },
  "papermill": {
   "default_parameters": {},
   "duration": 14.286424,
   "end_time": "2021-12-08T08:48:37.156253",
   "environment_variables": {},
   "exception": null,
   "input_path": "__notebook__.ipynb",
   "output_path": "__notebook__.ipynb",
   "parameters": {},
   "start_time": "2021-12-08T08:48:22.869829",
   "version": "2.3.3"
  }
 },
 "nbformat": 4,
 "nbformat_minor": 5
}
